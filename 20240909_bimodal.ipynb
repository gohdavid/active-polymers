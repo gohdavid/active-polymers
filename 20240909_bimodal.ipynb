{
 "cells": [
  {
   "cell_type": "code",
   "execution_count": null,
   "metadata": {},
   "outputs": [
    {
     "ename": "",
     "evalue": "",
     "output_type": "error",
     "traceback": [
      "\u001b[1;31mFailed to start the Kernel. \n",
      "\u001b[1;31mUnable to start Kernel 'CoupledEPCondensates (Python 3.10.13)' due to a timeout waiting for the ports to get used. \n",
      "\u001b[1;31mView Jupyter <a href='command:jupyter.viewOutput'>log</a> for further details."
     ]
    }
   ],
   "source": [
    "from pathlib import Path\n",
    "from act_pol.analysis.files import process_sim\n",
    "import matplotlib.pyplot as plt\n",
    "import numpy as np\n",
    "from scipy.stats import gaussian_kde, maxwell, norm\n",
    "from utils import plot\n",
    "from utils.plot import cm\n",
    "from matplotlib.lines import Line2D\n",
    "from utils.analysis import Simulation, Constants\n",
    "np.random.seed(seed=42)"
   ]
  },
  {
   "cell_type": "code",
   "execution_count": null,
   "metadata": {},
   "outputs": [
    {
     "ename": "",
     "evalue": "",
     "output_type": "error",
     "traceback": [
      "\u001b[1;31mFailed to start the Kernel. \n",
      "\u001b[1;31mUnable to start Kernel 'CoupledEPCondensates (Python 3.10.13)' due to a timeout waiting for the ports to get used. \n",
      "\u001b[1;31mView Jupyter <a href='command:jupyter.viewOutput'>log</a> for further details."
     ]
    }
   ],
   "source": [
    "def hist(ax,arr,density=True,fill=False,histtype='step',linewidth=1.5,**kwargs):\n",
    "    \"\"\"Plot a histogram with pre-defined kwargs.\"\"\"\n",
    "    ax.hist(arr,density=density,fill=fill,histtype=histtype,linewidth=linewidth,**kwargs)\n",
    "\n",
    "def histlegend(ax,**kwargs):\n",
    "    \"\"\"Convert step legend handles to lines.\"\"\"\n",
    "    \n",
    "    handles, labels = ax.get_legend_handles_labels()\n",
    "    new_handles = [\n",
    "        h if isinstance(h, Line2D) else Line2D([], [], c=h.get_edgecolor())\n",
    "        for h in handles\n",
    "    ]\n",
    "    ax.legend(handles=new_handles, labels=labels,**kwargs)"
   ]
  },
  {
   "cell_type": "code",
   "execution_count": null,
   "metadata": {},
   "outputs": [
    {
     "ename": "",
     "evalue": "",
     "output_type": "error",
     "traceback": [
      "\u001b[1;31mFailed to start the Kernel. \n",
      "\u001b[1;31mUnable to start Kernel 'CoupledEPCondensates (Python 3.10.13)' due to a timeout waiting for the ports to get used. \n",
      "\u001b[1;31mView Jupyter <a href='command:jupyter.viewOutput'>log</a> for further details."
     ]
    }
   ],
   "source": [
    "\"\"\"Equilibrium distribution\"\"\""
   ]
  },
  {
   "cell_type": "code",
   "execution_count": null,
   "metadata": {},
   "outputs": [
    {
     "ename": "",
     "evalue": "",
     "output_type": "error",
     "traceback": [
      "\u001b[1;31mFailed to start the Kernel. \n",
      "\u001b[1;31mUnable to start Kernel 'CoupledEPCondensates (Python 3.10.13)' due to a timeout waiting for the ports to get used. \n",
      "\u001b[1;31mView Jupyter <a href='command:jupyter.viewOutput'>log</a> for further details."
     ]
    }
   ],
   "source": [
    "gaussian_bins = np.linspace(-50,50,40)\n",
    "maxwell_bins = np.linspace(0,50,51)"
   ]
  },
  {
   "cell_type": "code",
   "execution_count": null,
   "metadata": {},
   "outputs": [
    {
     "ename": "",
     "evalue": "",
     "output_type": "error",
     "traceback": [
      "\u001b[1;31mFailed to start the Kernel. \n",
      "\u001b[1;31mUnable to start Kernel 'CoupledEPCondensates (Python 3.10.13)' due to a timeout waiting for the ports to get used. \n",
      "\u001b[1;31mView Jupyter <a href='command:jupyter.viewOutput'>log</a> for further details."
     ]
    }
   ],
   "source": [
    "fig, ax = plt.subplots(figsize=(8.5*cm,8.5*cm/2))\n",
    "ax.set_ylabel(\"Probability density\")\n",
    "ax.set_xlabel(\"E-P displacement\")\n",
    "r = np.linspace(-50,50)\n",
    "ax.plot(r,Simulation(B=0,F=1,A=1,L=150,R=0,directory=\"simulations_new\").gaussian_1D_rv.pdf(r),label=\"Gaussian\",color=\"black\")\n",
    "hist(ax,Simulation(B=0,F=1,A=1,L=150,R=0,directory=\"simulations_new\").displacement[:,0],label=\"x\",bins=gaussian_bins)\n",
    "hist(ax,Simulation(B=0,F=1,A=1,L=150,R=0,directory=\"simulations_new\").displacement[:,1],label=\"y\",bins=gaussian_bins)\n",
    "hist(ax,Simulation(B=0,F=1,A=1,L=150,R=0,directory=\"simulations_new\").displacement[:,2],label=\"z\",bins=gaussian_bins)\n",
    "histlegend(ax)\n",
    "ax.set_xlim(-50,50)\n",
    "ax.set_title(r\"$\\beta=0,A=1,\\xi=1,L_c=150\\mathrm{kb}$\")\n",
    "\n",
    "fig,ax = plt.subplots(figsize=(8.5*cm,8.5*cm/2))\n",
    "ax.set_ylabel(\"Probability density\")\n",
    "ax.set_xlabel(\"E-P separation\")\n",
    "r = np.linspace(0,50)\n",
    "ax.plot(r,Simulation(B=0,F=1,A=1,L=150,R=0,directory=\"simulations_new\").maxwell(r),label=\"Maxwell\",color=\"black\")\n",
    "hist(ax,Simulation(B=0,F=1,A=1,L=150,R=0,directory=\"simulations_new\").distance,label=\"Hist\", bins=maxwell_bins)\n",
    "ax.axvspan(0,7,color=\"grey\",alpha=0.1)\n",
    "ax.set_xlim(0,50)\n",
    "histlegend(ax)"
   ]
  },
  {
   "cell_type": "code",
   "execution_count": null,
   "metadata": {},
   "outputs": [
    {
     "ename": "",
     "evalue": "",
     "output_type": "error",
     "traceback": [
      "\u001b[1;31mFailed to start the Kernel. \n",
      "\u001b[1;31mUnable to start Kernel 'CoupledEPCondensates (Python 3.10.13)' due to a timeout waiting for the ports to get used. \n",
      "\u001b[1;31mView Jupyter <a href='command:jupyter.viewOutput'>log</a> for further details."
     ]
    }
   ],
   "source": [
    "fig,ax = plt.subplots(figsize=(8.5*cm,8.5*cm/2))\n",
    "ax.set_ylabel(\"Probability density\")\n",
    "ax.set_xlabel(\"E-P separation\")\n",
    "r = np.linspace(0,50)\n",
    "hist(ax,Simulation(B=0,F=1,A=1,L=150,R=0,directory=\"simulations_new\").distance, label=\"1\", bins=maxwell_bins)\n",
    "ax.axvspan(0,7,color=\"grey\",alpha=0.1)\n",
    "ax.set_xlim(0,50)\n",
    "histlegend(ax)"
   ]
  },
  {
   "cell_type": "code",
   "execution_count": null,
   "metadata": {},
   "outputs": [
    {
     "ename": "",
     "evalue": "",
     "output_type": "error",
     "traceback": [
      "\u001b[1;31mFailed to start the Kernel. \n",
      "\u001b[1;31mUnable to start Kernel 'CoupledEPCondensates (Python 3.10.13)' due to a timeout waiting for the ports to get used. \n",
      "\u001b[1;31mView Jupyter <a href='command:jupyter.viewOutput'>log</a> for further details."
     ]
    }
   ],
   "source": [
    "fig,ax = plt.subplots(figsize=(8.5*cm,8.5*cm/2))\n",
    "ax.set_ylabel(\"Probability density\")\n",
    "ax.set_xlabel(\"E-P separation\")\n",
    "r = np.linspace(0,50)\n",
    "hist(ax,Simulation(B=0,F=7,A=1,L=150,R=0,directory=\"simulations_new\").distance, label=\"7\", bins=maxwell_bins)\n",
    "ax.axvspan(0,7,color=\"grey\",alpha=0.1)\n",
    "ax.set_xlim(0,50)\n",
    "histlegend(ax)"
   ]
  },
  {
   "cell_type": "code",
   "execution_count": null,
   "metadata": {},
   "outputs": [
    {
     "ename": "",
     "evalue": "",
     "output_type": "error",
     "traceback": [
      "\u001b[1;31mFailed to start the Kernel. \n",
      "\u001b[1;31mUnable to start Kernel 'CoupledEPCondensates (Python 3.10.13)' due to a timeout waiting for the ports to get used. \n",
      "\u001b[1;31mView Jupyter <a href='command:jupyter.viewOutput'>log</a> for further details."
     ]
    }
   ],
   "source": [
    "maxwell_bins = np.linspace(0,50,51)\n",
    "fig,ax = plt.subplots(figsize=(8.5*cm,8.5*cm/2))\n",
    "ax.set_ylabel(\"Probability density\")\n",
    "ax.set_xlabel(\"E-P separation\")\n",
    "r = np.linspace(0,50)\n",
    "hist(ax,Simulation(B=0,F=14,A=1,L=150,R=0,directory=\"simulations_new\").distance, label=\"14\", bins=maxwell_bins)\n",
    "ax.axvspan(0,7,color=\"grey\",alpha=0.1)\n",
    "ax.set_xlim(0,50)\n",
    "histlegend(ax)"
   ]
  },
  {
   "cell_type": "code",
   "execution_count": null,
   "metadata": {},
   "outputs": [
    {
     "ename": "",
     "evalue": "",
     "output_type": "error",
     "traceback": [
      "\u001b[1;31mFailed to start the Kernel. \n",
      "\u001b[1;31mUnable to start Kernel 'CoupledEPCondensates (Python 3.10.13)' due to a timeout waiting for the ports to get used. \n",
      "\u001b[1;31mView Jupyter <a href='command:jupyter.viewOutput'>log</a> for further details."
     ]
    }
   ],
   "source": [
    "fig,ax = plt.subplots(figsize=(8.5*cm,8.5*cm/2))\n",
    "ax.set_ylabel(\"Probability density\")\n",
    "ax.set_xlabel(\"E-P separation\")\n",
    "r = np.linspace(0,50)\n",
    "hist(ax,Simulation(B=0,F=14,A=1,L=150,R=0,directory=\"simulations\").distance, label=\"14\", bins=maxwell_bins)\n",
    "ax.axvspan(0,7,color=\"grey\",alpha=0.1)\n",
    "ax.set_xlim(0,50)\n",
    "histlegend(ax)"
   ]
  },
  {
   "cell_type": "code",
   "execution_count": null,
   "metadata": {},
   "outputs": [
    {
     "ename": "",
     "evalue": "",
     "output_type": "error",
     "traceback": [
      "\u001b[1;31mFailed to start the Kernel. \n",
      "\u001b[1;31mUnable to start Kernel 'CoupledEPCondensates (Python 3.10.13)' due to a timeout waiting for the ports to get used. \n",
      "\u001b[1;31mView Jupyter <a href='command:jupyter.viewOutput'>log</a> for further details."
     ]
    }
   ],
   "source": [
    "fig,ax = plt.subplots(figsize=(8.5*cm,8.5*cm/2))\n",
    "ax.set_ylabel(\"Probability density\")\n",
    "ax.set_xlabel(\"E-P separation\")\n",
    "r = np.linspace(0,50)\n",
    "ax.plot(r,Simulation(B=0,F=14,A=1,L=150,R=0,directory=\"simulations_new\").distance_g(r), label=\"14\")\n",
    "ax.axvspan(0,7,color=\"grey\",alpha=0.1)\n",
    "ax.set_xlim(0,50)\n",
    "# histlegend(ax)"
   ]
  },
  {
   "cell_type": "code",
   "execution_count": null,
   "metadata": {},
   "outputs": [
    {
     "ename": "",
     "evalue": "",
     "output_type": "error",
     "traceback": [
      "\u001b[1;31mFailed to start the Kernel. \n",
      "\u001b[1;31mUnable to start Kernel 'CoupledEPCondensates (Python 3.10.13)' due to a timeout waiting for the ports to get used. \n",
      "\u001b[1;31mView Jupyter <a href='command:jupyter.viewOutput'>log</a> for further details."
     ]
    }
   ],
   "source": [
    "fig,ax = plt.subplots(figsize=(8.5*cm,8.5*cm/2))\n",
    "ax.set_ylabel(\"Probability density\")\n",
    "ax.set_xlabel(\"E-P separation\")\n",
    "r = np.linspace(0,50)\n",
    "ax.plot(r,Simulation(B=0,F=14,A=1,L=150,R=0,directory=\"simulations\",subsample=0.25).distance_g(r), label=\"14\")\n",
    "ax.axvspan(0,7,color=\"grey\",alpha=0.1)\n",
    "ax.set_xlim(0,50)\n",
    "# histlegend(ax)"
   ]
  },
  {
   "cell_type": "code",
   "execution_count": null,
   "metadata": {},
   "outputs": [
    {
     "ename": "",
     "evalue": "",
     "output_type": "error",
     "traceback": [
      "\u001b[1;31mFailed to start the Kernel. \n",
      "\u001b[1;31mUnable to start Kernel 'CoupledEPCondensates (Python 3.10.13)' due to a timeout waiting for the ports to get used. \n",
      "\u001b[1;31mView Jupyter <a href='command:jupyter.viewOutput'>log</a> for further details."
     ]
    }
   ],
   "source": [
    "maxwell_bins = np.linspace(0,50,21)\n",
    "fig,ax = plt.subplots(figsize=(8.5*cm,8.5*cm/2))\n",
    "ax.set_ylabel(\"Probability density\")\n",
    "ax.set_xlabel(\"E-P separation\")\n",
    "r = np.linspace(0,50)\n",
    "hist(ax,np.hstack([Simulation(B=0,F=14,A=1,L=150,R=0,directory=\"simulations\").distance,Simulation(B=0,F=14,A=1,L=150,R=0,directory=\"simulations_new\").distance]), label=\"14\", bins=maxwell_bins)\n",
    "ax.axvspan(0,7,color=\"grey\",alpha=0.1)\n",
    "ax.set_xlim(0,50)\n",
    "histlegend(ax)"
   ]
  },
  {
   "cell_type": "code",
   "execution_count": null,
   "metadata": {},
   "outputs": [
    {
     "ename": "",
     "evalue": "",
     "output_type": "error",
     "traceback": [
      "\u001b[1;31mFailed to start the Kernel. \n",
      "\u001b[1;31mUnable to start Kernel 'CoupledEPCondensates (Python 3.10.13)' due to a timeout waiting for the ports to get used. \n",
      "\u001b[1;31mView Jupyter <a href='command:jupyter.viewOutput'>log</a> for further details."
     ]
    }
   ],
   "source": [
    "mean_0 = [np.mean(Simulation(B=0,F=F,A=1,L=150,R=0,directory=\"simulations_new\").distance) for F in [1, 3.5, 7, 10.5, 14]]"
   ]
  },
  {
   "cell_type": "code",
   "execution_count": null,
   "metadata": {},
   "outputs": [
    {
     "ename": "",
     "evalue": "",
     "output_type": "error",
     "traceback": [
      "\u001b[1;31mFailed to start the Kernel. \n",
      "\u001b[1;31mUnable to start Kernel 'CoupledEPCondensates (Python 3.10.13)' due to a timeout waiting for the ports to get used. \n",
      "\u001b[1;31mView Jupyter <a href='command:jupyter.viewOutput'>log</a> for further details."
     ]
    }
   ],
   "source": [
    "mean_0_100 = [np.mean(Simulation(B=0,F=F,A=1,L=100,R=0,directory=\"simulations_new\").distance) for F in [1, 3.5, 7, 10.5, 14]]"
   ]
  },
  {
   "cell_type": "code",
   "execution_count": null,
   "metadata": {},
   "outputs": [
    {
     "ename": "",
     "evalue": "",
     "output_type": "error",
     "traceback": [
      "\u001b[1;31mFailed to start the Kernel. \n",
      "\u001b[1;31mUnable to start Kernel 'CoupledEPCondensates (Python 3.10.13)' due to a timeout waiting for the ports to get used. \n",
      "\u001b[1;31mView Jupyter <a href='command:jupyter.viewOutput'>log</a> for further details."
     ]
    }
   ],
   "source": [
    "mean_10 = [np.mean(Simulation(B=10,F=F,A=1,L=150,R=0,directory=\"simulations_new\").distance) for F in [1, 3.5, 7, 10.5, 14]]"
   ]
  },
  {
   "cell_type": "code",
   "execution_count": null,
   "metadata": {},
   "outputs": [
    {
     "ename": "",
     "evalue": "",
     "output_type": "error",
     "traceback": [
      "\u001b[1;31mFailed to start the Kernel. \n",
      "\u001b[1;31mUnable to start Kernel 'CoupledEPCondensates (Python 3.10.13)' due to a timeout waiting for the ports to get used. \n",
      "\u001b[1;31mView Jupyter <a href='command:jupyter.viewOutput'>log</a> for further details."
     ]
    }
   ],
   "source": [
    "mean_10_100 = [np.mean(Simulation(B=10,F=F,A=1,L=100,R=0,directory=\"simulations_new\").distance) for F in [1, 3.5, 7, 10.5, 14]]"
   ]
  },
  {
   "cell_type": "code",
   "execution_count": null,
   "metadata": {},
   "outputs": [
    {
     "ename": "",
     "evalue": "",
     "output_type": "error",
     "traceback": [
      "\u001b[1;31mFailed to start the Kernel. \n",
      "\u001b[1;31mUnable to start Kernel 'CoupledEPCondensates (Python 3.10.13)' due to a timeout waiting for the ports to get used. \n",
      "\u001b[1;31mView Jupyter <a href='command:jupyter.viewOutput'>log</a> for further details."
     ]
    }
   ],
   "source": [
    "plt.plot(mean_0,label=\"\")\n",
    "plt.plot(mean_0_100)\n",
    "plt.plot(mean_10)\n",
    "plt.plot(mean_10_100)"
   ]
  }
 ],
 "metadata": {
  "kernelspec": {
   "display_name": "poly",
   "language": "python",
   "name": "python3"
  },
  "language_info": {
   "codemirror_mode": {
    "name": "ipython",
    "version": 3
   },
   "file_extension": ".py",
   "mimetype": "text/x-python",
   "name": "python",
   "nbconvert_exporter": "python",
   "pygments_lexer": "ipython3",
   "version": "3.10.13"
  }
 },
 "nbformat": 4,
 "nbformat_minor": 2
}
